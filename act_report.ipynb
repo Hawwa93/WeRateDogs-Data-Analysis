{
 "cells": [
  {
   "cell_type": "markdown",
   "metadata": {},
   "source": [
    "### Analysis summary\n",
    "\n",
    "WeRateDogs is a twiter page that rate Dogs with a very unique scale, Dogs are rated mostly over 10 with the numerator going way\n",
    "above 10 in most cases.\n",
    "\n",
    "According to the data analysis of the Twitter archive of WeRateDogs, the highest average of likes and retweets occurred in 2016,\n",
    "specifically in the month of July, and the 2017 in the month of January. \n",
    "It is possible that this increase in engagement could be attributed to a rise in followers or an increase in the number \n",
    "of posts per month.\n",
    "\n",
    "Additionally, the highest number of likes for a single tweet was 132810 and recorded at January 2017.\n",
    "This tweet was likely especially popular among followers of the account.\n",
    "\n",
    "Finally, the data analysis revealed that the dog stage with the highest rating was puppo.\n",
    "It is not clear from the given information what criteria were used to rate the dogs or how puppo was able to achieve \n",
    "such a high number of rating.\n",
    "\n",
    "Also, there is strong positive relationship between the retweet count and the favorite count. It is clear that the more the the\n",
    "retweets of the post made, the more the engagement which can leads to higher number of likes \n",
    "\n",
    "Overall, the data analysis of the WeRateDogs Twitter archive provided insights into the increase in engagement and popularity\n",
    "of the account, as well as the ratings and popularity of individual dogs. These insights could be useful for understanding the \n",
    "trends and preferences of the WeRateDogs audience, as well as for identifying strategies for improving engagement and \n",
    "attracting new followers."
   ]
  },
  {
   "cell_type": "code",
   "execution_count": null,
   "metadata": {},
   "outputs": [],
   "source": []
  }
 ],
 "metadata": {
  "kernelspec": {
   "display_name": "Python 3",
   "language": "python",
   "name": "python3"
  },
  "language_info": {
   "codemirror_mode": {
    "name": "ipython",
    "version": 3
   },
   "file_extension": ".py",
   "mimetype": "text/x-python",
   "name": "python",
   "nbconvert_exporter": "python",
   "pygments_lexer": "ipython3",
   "version": "3.6.3"
  }
 },
 "nbformat": 4,
 "nbformat_minor": 2
}
